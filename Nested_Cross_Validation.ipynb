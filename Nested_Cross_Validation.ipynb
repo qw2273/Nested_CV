{
  "nbformat": 4,
  "nbformat_minor": 0,
  "metadata": {
    "colab": {
      "provenance": [],
      "collapsed_sections": [],
      "toc_visible": true
    },
    "kernelspec": {
      "name": "python3",
      "display_name": "Python 3"
    },
    "language_info": {
      "name": "python"
    }
  },
  "cells": [
    {
      "cell_type": "markdown",
      "source": [
        "# Nested Cross validation\n",
        "Reference: [Sergey Feldman: You Should Probably Be Doing Nested Cross-Validation | PyData Miami 2019](https://www.youtube.com/watch?v=DuDtXtKNpZs&ab_channel=PyData)\n",
        "## Inner Loop\n",
        "*   Training set (including validation set) \n",
        "*   K-fold cross-validation to find the set of hyper-parameters on the validation set \n",
        "*   This method helps to fix the validation error variance\n",
        "------------------ \n",
        "K-fold CV on the inner loop\n",
        "* run cv to find the best set of hyper-params\n",
        "* retrain the best hyper-params on the train + validation\n",
        "* use the retrained model on the test set\n",
        "\n",
        "\n",
        "## Outer Loop\n",
        "*  Training set + Testing set\n",
        "*  N-fold Split on the whole dataset into N folds, ( N - 1 ) folds for training and 1 fold to conduct model evaluation\n",
        "*  Apply inner loop k-fold CV on the (N-1) folds \n",
        "*  This helps to fix the variance on test error due to randomly choosen a signle test set\n",
        "\n"
      ],
      "metadata": {
        "id": "a8XkuPQR3KNK"
      }
    },
    {
      "cell_type": "code",
      "source": [
        "import sklearn\n",
        "import pandas as pd\n",
        "import numpy as np\n",
        "from sklearn.ensemble import RandomForestClassifier\n",
        "from sklearn.datasets import load_iris\n",
        "from sklearn.model_selection import GridSearchCV\n",
        "from sklearn.model_selection import train_test_split\n",
        "from sklearn.model_selection import KFold\n",
        "from sklearn.model_selection import cross_val_score,cross_val_predict"
      ],
      "metadata": {
        "id": "k-fckJK31wyP"
      },
      "execution_count": 34,
      "outputs": []
    },
    {
      "cell_type": "code",
      "source": [
        "X, y =  load_iris(return_X_y= True)"
      ],
      "metadata": {
        "id": "HpZUuDlX5hGv"
      },
      "execution_count": 21,
      "outputs": []
    },
    {
      "cell_type": "code",
      "source": [
        "# display(X_train_val)"
      ],
      "metadata": {
        "id": "jmEQqpBJ9btS"
      },
      "execution_count": 27,
      "outputs": []
    },
    {
      "cell_type": "markdown",
      "source": [
        "##  The normal way \n",
        "- Train & Validation: K-fold to find the best set of hyper-parameters\n",
        "- Test: Assess the model performance on the unseen test data"
      ],
      "metadata": {
        "id": "iM1n8-lnBOhx"
      }
    },
    {
      "cell_type": "code",
      "source": [
        "X_train_val, X_test,  y_train_val, y_test = train_test_split(X ,y , test_size = 0.2 )"
      ],
      "metadata": {
        "id": "ueUsfkE3CRMX"
      },
      "execution_count": 39,
      "outputs": []
    },
    {
      "cell_type": "code",
      "source": [
        "p_grid = {'max_depth' :[2, 5, 10]}\n",
        "rf = RandomForestClassifier()\n",
        "clf = GridSearchCV( estimator = rf , param_grid = p_grid, cv = 5 )\n",
        "clf.fit( X_train_val , y_train_val)"
      ],
      "metadata": {
        "colab": {
          "base_uri": "https://localhost:8080/"
        },
        "id": "vtkOsg2D9zZj",
        "outputId": "aa5fe272-b899-4e88-9c98-4febf09f5b48"
      },
      "execution_count": 29,
      "outputs": [
        {
          "output_type": "execute_result",
          "data": {
            "text/plain": [
              "GridSearchCV(cv=5, estimator=RandomForestClassifier(),\n",
              "             param_grid={'max_depth': [2, 5, 10]})"
            ]
          },
          "metadata": {},
          "execution_count": 29
        }
      ]
    },
    {
      "cell_type": "code",
      "source": [
        "best_rf = RandomForestClassifier(**clf.best_params_)"
      ],
      "metadata": {
        "id": "2l-C2lxD-xmd"
      },
      "execution_count": 30,
      "outputs": []
    },
    {
      "cell_type": "code",
      "source": [
        "best_rf.fit(X_train_val , y_train_val) "
      ],
      "metadata": {
        "colab": {
          "base_uri": "https://localhost:8080/"
        },
        "id": "7Vp45cdw-xo7",
        "outputId": "72a4e45c-47fa-4748-dc35-c2c1966e0e21"
      },
      "execution_count": 31,
      "outputs": [
        {
          "output_type": "execute_result",
          "data": {
            "text/plain": [
              "RandomForestClassifier(max_depth=2)"
            ]
          },
          "metadata": {},
          "execution_count": 31
        }
      ]
    },
    {
      "cell_type": "code",
      "source": [
        "test_error = np.mean( best_rf.predict(X_test) !=  y_test) "
      ],
      "metadata": {
        "id": "e-Sy5bF5ANCh"
      },
      "execution_count": 36,
      "outputs": []
    },
    {
      "cell_type": "code",
      "source": [
        "test_error"
      ],
      "metadata": {
        "colab": {
          "base_uri": "https://localhost:8080/"
        },
        "id": "0YYWIrQk5hPi",
        "outputId": "667f98bd-afe6-403c-f64a-f18e22b77eda"
      },
      "execution_count": 37,
      "outputs": [
        {
          "output_type": "execute_result",
          "data": {
            "text/plain": [
              "0.1"
            ]
          },
          "metadata": {},
          "execution_count": 37
        }
      ]
    },
    {
      "cell_type": "markdown",
      "source": [
        "##  Nested CV\n",
        "* gridsearch + cross_val_score: this doesn't give you access to the optimal hyper-params selected in each inner loop\n",
        "* customized function: "
      ],
      "metadata": {
        "id": "uoZKUMmjBumg"
      }
    },
    {
      "cell_type": "code",
      "source": [
        "p_grid = {'max_depth' :[2, 5, 10]}\n",
        "rf = RandomForestClassifier()\n",
        "# 4-outer, 5-inner nested CV \n",
        "clf = GridSearchCV( estimator = rf , param_grid = p_grid, cv = 5 )\n",
        "nested_scores = cross_val_score( estimator = clf, X=X, y=y, cv = 4 ,verbose = 1  )"
      ],
      "metadata": {
        "colab": {
          "base_uri": "https://localhost:8080/"
        },
        "id": "6WXG4JvbAxSh",
        "outputId": "4a5883b4-59f5-464b-a571-c6eda0410a15"
      },
      "execution_count": 53,
      "outputs": [
        {
          "output_type": "stream",
          "name": "stderr",
          "text": [
            "[Parallel(n_jobs=1)]: Using backend SequentialBackend with 1 concurrent workers.\n",
            "[Parallel(n_jobs=1)]: Done   4 out of   4 | elapsed:    9.9s finished\n"
          ]
        }
      ]
    },
    {
      "cell_type": "code",
      "source": [
        "nested_scores"
      ],
      "metadata": {
        "id": "SHIVWOpy1y3X",
        "colab": {
          "base_uri": "https://localhost:8080/"
        },
        "outputId": "5f7409b6-54e3-437f-b395-594d4bf3222b"
      },
      "execution_count": 41,
      "outputs": [
        {
          "output_type": "execute_result",
          "data": {
            "text/plain": [
              "array([0.94736842, 0.94736842, 0.94594595, 1.        ])"
            ]
          },
          "metadata": {},
          "execution_count": 41
        }
      ]
    },
    {
      "cell_type": "code",
      "source": [
        "type(clf)"
      ],
      "metadata": {
        "colab": {
          "base_uri": "https://localhost:8080/"
        },
        "id": "f7FvWN_WCt57",
        "outputId": "4f981c79-9df5-4525-9017-2a8ee2258850"
      },
      "execution_count": 52,
      "outputs": [
        {
          "output_type": "execute_result",
          "data": {
            "text/plain": [
              "sklearn.model_selection._search.GridSearchCV"
            ]
          },
          "metadata": {},
          "execution_count": 52
        }
      ]
    },
    {
      "cell_type": "code",
      "source": [
        "# cross_val_predict(estimator = clf, X=X, y=y, cv = 4 ,verbose = 1  )"
      ],
      "metadata": {
        "id": "kFK3qRHVSknf"
      },
      "execution_count": 81,
      "outputs": []
    },
    {
      "cell_type": "code",
      "source": [],
      "metadata": {
        "id": "i-6uV0ttXzW9"
      },
      "execution_count": null,
      "outputs": []
    },
    {
      "cell_type": "markdown",
      "source": [
        "Customized Function"
      ],
      "metadata": {
        "id": "P95VEIcoXo6p"
      }
    },
    {
      "cell_type": "code",
      "source": [
        "X, y =  load_iris(return_X_y= True)\n",
        "outer_loop_kf = KFold(n_splits= 5  )\n",
        "n = 0 \n",
        "# 5 -outer loop\n",
        "for train_index, test_index in outer_loop_kf.split(X):\n",
        "    print(f\"CV = {n}\")\n",
        "    n +=1 \n",
        "    # print(\"TRAIN:\", train_index, \"TEST:\", test_index)\n",
        "    X_train_val, X_test = X[train_index], X[test_index]\n",
        "    y_train_val, y_test = y[train_index], y[test_index]\n",
        "    \n",
        "    # 5-inner loop\n",
        "    p_grid = {'max_depth' :[2, 5, 10]}\n",
        "    rf = RandomForestClassifier()\n",
        "    clf = GridSearchCV( estimator = rf , param_grid = p_grid, cv = 5 )\n",
        "    clf.fit( X_train_val , y_train_val)\n",
        "    print(f\"best parameters: {clf.best_params_}\")\n",
        "    best_rf = RandomForestClassifier(**clf.best_params_)\n",
        "    best_rf.fit(X_train_val , y_train_val) \n",
        "    \n",
        "    # evaluate the performance on the test set\n",
        "    test_error = np.mean(best_rf.predict(X_test) == y_test) \n",
        "    print(f\"test error is: {test_error}\")"
      ],
      "metadata": {
        "colab": {
          "base_uri": "https://localhost:8080/"
        },
        "id": "myydhrWFU2Jk",
        "outputId": "b6301582-0b35-437e-d73b-e1ca9a9fa5d9"
      },
      "execution_count": 82,
      "outputs": [
        {
          "output_type": "stream",
          "name": "stdout",
          "text": [
            "CV = 0\n",
            "best parameters: {'max_depth': 10}\n",
            "test error is: 1.0\n",
            "CV = 1\n",
            "best parameters: {'max_depth': 2}\n",
            "test error is: 1.0\n",
            "CV = 2\n",
            "best parameters: {'max_depth': 2}\n",
            "test error is: 0.8333333333333334\n",
            "CV = 3\n",
            "best parameters: {'max_depth': 5}\n",
            "test error is: 0.9333333333333333\n",
            "CV = 4\n",
            "best parameters: {'max_depth': 2}\n",
            "test error is: 0.7666666666666667\n"
          ]
        }
      ]
    },
    {
      "cell_type": "code",
      "source": [],
      "metadata": {
        "id": "sVnCkY_iVLwm"
      },
      "execution_count": null,
      "outputs": []
    },
    {
      "cell_type": "code",
      "source": [],
      "metadata": {
        "id": "2dLK_8twVLy0"
      },
      "execution_count": null,
      "outputs": []
    },
    {
      "cell_type": "code",
      "source": [],
      "metadata": {
        "id": "jjOpHlBRU2OE"
      },
      "execution_count": null,
      "outputs": []
    }
  ]
}